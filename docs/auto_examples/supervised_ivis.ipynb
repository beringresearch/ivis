{
  "cells": [
    {
      "cell_type": "code",
      "execution_count": null,
      "metadata": {
        "collapsed": false
      },
      "outputs": [],
      "source": [
        "%matplotlib inline"
      ]
    },
    {
      "cell_type": "markdown",
      "metadata": {},
      "source": [
        "\nSupervised Dimensionality Reduction with ivis\n=============================================\n\nivis is able to make use of any provided class labels to perform supervised\ndimensionality reduction. Supervised embeddings combine the distance-based\ncharacteristics of the unsupervised ivis algorithm with clear class boundaries\nbetween the class categories. The resulting embeddings encode relevant\nclass-specific information into lower dimensional space, making them useful\nfor enhancing the performance of a classifier.\n\nTo train ivis in supervised mode, simply provide the labels to the fit\nmethod\u2019s Y parameter. These labels should be a list of 0-indexed integers with\neach integer corresponding to a class.\n"
      ]
    },
    {
      "cell_type": "code",
      "execution_count": null,
      "metadata": {
        "collapsed": false
      },
      "outputs": [],
      "source": [
        "import numpy as np\nfrom tensorflow.keras.datasets import mnist\nfrom ivis import Ivis\n\n(X_train, Y_train), (X_test, Y_test) = mnist.load_data()\n\n# Rescale to 0-1\nX_train = X_train / 255.\nX_test = X_test / 255.\n\n# Flatten images to 1D vectors\nX_train = np.reshape(X_train, (len(X_train), 28 * 28))\nX_test = np.reshape(X_test, (len(X_test), 28 * 28))\n\nmodel = Ivis(n_epochs_without_progress=5)\nmodel.fit(X_train, Y_train)"
      ]
    }
  ],
  "metadata": {
    "kernelspec": {
      "display_name": "Python 3",
      "language": "python",
      "name": "python3"
    },
    "language_info": {
      "codemirror_mode": {
        "name": "ipython",
        "version": 3
      },
      "file_extension": ".py",
      "mimetype": "text/x-python",
      "name": "python",
      "nbconvert_exporter": "python",
      "pygments_lexer": "ipython3",
      "version": "3.7.3"
    }
  },
  "nbformat": 4,
  "nbformat_minor": 0
}