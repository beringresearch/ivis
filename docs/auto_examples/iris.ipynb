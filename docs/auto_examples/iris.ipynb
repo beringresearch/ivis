{
  "cells": [
    {
      "cell_type": "code",
      "execution_count": null,
      "metadata": {
        "collapsed": false
      },
      "outputs": [],
      "source": [
        "%matplotlib inline"
      ]
    },
    {
      "cell_type": "markdown",
      "metadata": {},
      "source": [
        "\niris dataset\n============\n\nExample of reducing dimensionality of the iris dataset using ivis.\n"
      ]
    },
    {
      "cell_type": "code",
      "execution_count": null,
      "metadata": {
        "collapsed": false
      },
      "outputs": [],
      "source": [
        "import seaborn as sns\nimport matplotlib.pyplot as plt\nfrom sklearn.datasets import load_iris\nfrom sklearn.preprocessing import MinMaxScaler\n\nfrom ivis import Ivis\n\nsns.set(context='paper', style='white')\n\nX = load_iris().data\nX = MinMaxScaler().fit_transform(X)\n\nivis = Ivis(k=5, model='maaten', verbose=0)\nivis.fit(X)\n\nembeddings = ivis.transform(X)\n\nplt.figure(figsize=(5, 5), dpi=100)\nplt.scatter(embeddings[:, 0],\n            embeddings[:, 1],\n            c=load_iris().target, s=20)\nplt.xlabel('ivis 1')\nplt.ylabel('ivis 2')\nplt.title('ivis embeddings of the iris dataset')\n\nplt.show()"
      ]
    }
  ],
  "metadata": {
    "kernelspec": {
      "display_name": "Python 3",
      "language": "python",
      "name": "python3"
    },
    "language_info": {
      "codemirror_mode": {
        "name": "ipython",
        "version": 3
      },
      "file_extension": ".py",
      "mimetype": "text/x-python",
      "name": "python",
      "nbconvert_exporter": "python",
      "pygments_lexer": "ipython3",
      "version": "3.7.4"
    }
  },
  "nbformat": 4,
  "nbformat_minor": 0
}