{
  "cells": [
    {
      "cell_type": "code",
      "execution_count": null,
      "metadata": {
        "collapsed": false
      },
      "outputs": [],
      "source": [
        "%matplotlib inline"
      ]
    },
    {
      "cell_type": "markdown",
      "metadata": {},
      "source": [
        "\nIntegrating ivis with standard sklearn pipelines\n================================================\n\n`Ivis` class extends sklearn's `BaseEstimator`, making it easy to incorporate ivis into a standard classification or regression pipeline.\n"
      ]
    },
    {
      "cell_type": "code",
      "execution_count": null,
      "metadata": {
        "collapsed": false
      },
      "outputs": [],
      "source": [
        "from sklearn.datasets import make_classification\nfrom sklearn.preprocessing import MinMaxScaler\nfrom sklearn.model_selection import train_test_split\nfrom sklearn.pipeline import Pipeline\nfrom sklearn.svm import LinearSVC\nfrom ivis import Ivis\n\n# Make a toy dataset\nX, y = make_classification(n_samples=1000,\n        n_features=300, n_informative=250,\n        n_redundant=0, n_repeated=0, n_classes=2,\n        random_state=1234)\n\nX_train, X_test, y_train, y_test = train_test_split(X, y, test_size = 0.25,\n        random_state = 1234)\n\nivis = Ivis(model = 'maaten', k = 10)\nsvc = LinearSVC(dual=False, random_state=1234)\n\nclf_pipeline = Pipeline(steps=[('scaler', MinMaxScaler()),\n                         ('ivis', ivis),\n                         ('svc', svc)])\nclf_pipeline.fit(X_train, y_train)\n\nprint(\"Accuracy on the test set with ivs transformation: {:.3f}\".\\\n        format(clf_pipeline.score(X_test, y_test)))"
      ]
    }
  ],
  "metadata": {
    "kernelspec": {
      "display_name": "Python 3",
      "language": "python",
      "name": "python3"
    },
    "language_info": {
      "codemirror_mode": {
        "name": "ipython",
        "version": 3
      },
      "file_extension": ".py",
      "mimetype": "text/x-python",
      "name": "python",
      "nbconvert_exporter": "python",
      "pygments_lexer": "ipython3",
      "version": "3.7.3"
    }
  },
  "nbformat": 4,
  "nbformat_minor": 0
}