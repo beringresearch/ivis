{
 "cells": [
  {
   "cell_type": "code",
   "execution_count": 1,
   "metadata": {},
   "outputs": [
    {
     "name": "stderr",
     "output_type": "stream",
     "text": [
      "Using TensorFlow backend.\n"
     ]
    }
   ],
   "source": [
    "import matplotlib.pyplot as plt\n",
    "\n",
    "from sklearn import datasets\n",
    "from sklearn.preprocessing import MinMaxScaler\n",
    "\n",
    "from annoy import AnnoyIndex\n",
    "from ivis import Ivis"
   ]
  },
  {
   "cell_type": "code",
   "execution_count": 2,
   "metadata": {},
   "outputs": [],
   "source": [
    "X = datasets.load_iris().data\n",
    "Y = datasets.load_iris().target"
   ]
  },
  {
   "cell_type": "code",
   "execution_count": 3,
   "metadata": {},
   "outputs": [],
   "source": [
    "X_scaled = MinMaxScaler().fit_transform(X)"
   ]
  },
  {
   "cell_type": "code",
   "execution_count": 7,
   "metadata": {},
   "outputs": [
    {
     "name": "stderr",
     "output_type": "stream",
     "text": [
      "100%|██████████| 150/150 [00:00<00:00, 82273.52it/s]"
     ]
    },
    {
     "name": "stdout",
     "output_type": "stream",
     "text": [
      "Building KNN index\n",
      "Extracting KNN from index\n"
     ]
    },
    {
     "name": "stderr",
     "output_type": "stream",
     "text": [
      "\n",
      "100%|██████████| 150/150 [00:00<00:00, 8960.66it/s]\n"
     ]
    },
    {
     "name": "stdout",
     "output_type": "stream",
     "text": [
      "Training neural network\n",
      "Epoch 1/1000\n",
      "1/1 [==============================] - 1s 826ms/step - loss: 1.4806\n",
      "Epoch 2/1000\n",
      "1/1 [==============================] - 0s 9ms/step - loss: 1.5117\n",
      "Epoch 3/1000\n",
      "1/1 [==============================] - 0s 17ms/step - loss: 1.3610\n",
      "Epoch 4/1000\n",
      "1/1 [==============================] - 0s 12ms/step - loss: 1.4071\n",
      "Epoch 5/1000\n",
      "1/1 [==============================] - 0s 20ms/step - loss: 1.1468\n",
      "Epoch 6/1000\n",
      "1/1 [==============================] - 0s 11ms/step - loss: 1.0185\n",
      "Epoch 7/1000\n",
      "1/1 [==============================] - 0s 29ms/step - loss: 1.1120\n",
      "Epoch 8/1000\n",
      "1/1 [==============================] - 0s 20ms/step - loss: 1.0517\n",
      "Epoch 9/1000\n",
      "1/1 [==============================] - 0s 12ms/step - loss: 0.8635\n",
      "Epoch 10/1000\n",
      "1/1 [==============================] - 0s 24ms/step - loss: 1.0345\n",
      "Epoch 11/1000\n",
      "1/1 [==============================] - 0s 19ms/step - loss: 0.8088\n",
      "Epoch 12/1000\n",
      "1/1 [==============================] - 0s 10ms/step - loss: 0.9837\n",
      "Epoch 13/1000\n",
      "1/1 [==============================] - 0s 17ms/step - loss: 0.9893\n",
      "Epoch 14/1000\n",
      "1/1 [==============================] - 0s 13ms/step - loss: 0.7469\n",
      "Epoch 15/1000\n",
      "1/1 [==============================] - 0s 24ms/step - loss: 1.0054\n",
      "Epoch 16/1000\n",
      "1/1 [==============================] - 0s 23ms/step - loss: 0.7775\n",
      "Epoch 17/1000\n",
      "1/1 [==============================] - 0s 23ms/step - loss: 1.0172\n",
      "Epoch 18/1000\n",
      "1/1 [==============================] - 0s 21ms/step - loss: 0.7626\n",
      "Epoch 19/1000\n",
      "1/1 [==============================] - 0s 12ms/step - loss: 0.7684\n",
      "Epoch 20/1000\n",
      "1/1 [==============================] - 0s 17ms/step - loss: 0.7279\n",
      "Epoch 21/1000\n",
      "1/1 [==============================] - 0s 17ms/step - loss: 0.6592\n",
      "Epoch 22/1000\n",
      "1/1 [==============================] - 0s 21ms/step - loss: 0.6941\n",
      "Epoch 23/1000\n",
      "1/1 [==============================] - 0s 21ms/step - loss: 0.7627\n",
      "Epoch 24/1000\n",
      "1/1 [==============================] - 0s 20ms/step - loss: 0.7849\n",
      "Epoch 25/1000\n",
      "1/1 [==============================] - 0s 15ms/step - loss: 0.7490\n",
      "Epoch 26/1000\n",
      "1/1 [==============================] - 0s 12ms/step - loss: 0.6183\n",
      "Epoch 27/1000\n",
      "1/1 [==============================] - 0s 14ms/step - loss: 0.7184\n",
      "Epoch 28/1000\n",
      "1/1 [==============================] - 0s 9ms/step - loss: 0.7655\n",
      "Epoch 29/1000\n",
      "1/1 [==============================] - 0s 18ms/step - loss: 0.7804\n",
      "Epoch 30/1000\n",
      "1/1 [==============================] - 0s 18ms/step - loss: 0.6700\n",
      "Epoch 31/1000\n",
      "1/1 [==============================] - 0s 14ms/step - loss: 0.7870\n",
      "Epoch 32/1000\n",
      "1/1 [==============================] - 0s 15ms/step - loss: 0.7998\n",
      "Epoch 33/1000\n",
      "1/1 [==============================] - 0s 14ms/step - loss: 0.7341\n",
      "Epoch 34/1000\n",
      "1/1 [==============================] - 0s 20ms/step - loss: 0.6513\n",
      "Epoch 35/1000\n",
      "1/1 [==============================] - 0s 20ms/step - loss: 0.6354\n",
      "Epoch 36/1000\n",
      "1/1 [==============================] - 0s 15ms/step - loss: 0.7870\n",
      "Epoch 37/1000\n",
      "1/1 [==============================] - 0s 18ms/step - loss: 0.6550\n",
      "Epoch 38/1000\n",
      "1/1 [==============================] - 0s 14ms/step - loss: 0.7199\n",
      "Epoch 39/1000\n",
      "1/1 [==============================] - 0s 15ms/step - loss: 0.7486\n",
      "Epoch 40/1000\n",
      "1/1 [==============================] - 0s 18ms/step - loss: 0.6442\n",
      "Epoch 41/1000\n",
      "1/1 [==============================] - 0s 17ms/step - loss: 0.6613\n",
      "Epoch 42/1000\n",
      "1/1 [==============================] - 0s 9ms/step - loss: 0.7045\n",
      "Epoch 43/1000\n",
      "1/1 [==============================] - 0s 17ms/step - loss: 0.8482\n",
      "Epoch 44/1000\n",
      "1/1 [==============================] - 0s 13ms/step - loss: 0.6918\n",
      "Epoch 45/1000\n",
      "1/1 [==============================] - 0s 16ms/step - loss: 0.6604\n",
      "Epoch 46/1000\n",
      "1/1 [==============================] - 0s 17ms/step - loss: 0.6636\n",
      "Epoch 47/1000\n",
      "1/1 [==============================] - 0s 9ms/step - loss: 0.7729\n",
      "Epoch 48/1000\n",
      "1/1 [==============================] - 0s 9ms/step - loss: 0.7529\n",
      "Epoch 49/1000\n",
      "1/1 [==============================] - 0s 9ms/step - loss: 0.7608\n",
      "Epoch 50/1000\n",
      "1/1 [==============================] - 0s 24ms/step - loss: 0.7043\n",
      "Epoch 51/1000\n",
      "1/1 [==============================] - 0s 8ms/step - loss: 0.8750\n",
      "Epoch 52/1000\n",
      "1/1 [==============================] - 0s 17ms/step - loss: 0.6080\n",
      "Epoch 53/1000\n",
      "1/1 [==============================] - 0s 10ms/step - loss: 0.6333\n",
      "Epoch 54/1000\n",
      "1/1 [==============================] - 0s 8ms/step - loss: 0.5991\n",
      "Epoch 55/1000\n",
      "1/1 [==============================] - 0s 12ms/step - loss: 0.6317\n",
      "Epoch 56/1000\n",
      "1/1 [==============================] - 0s 17ms/step - loss: 0.7781\n",
      "Epoch 57/1000\n",
      "1/1 [==============================] - 0s 13ms/step - loss: 0.7422\n",
      "Epoch 58/1000\n",
      "1/1 [==============================] - 0s 18ms/step - loss: 0.7618\n",
      "Epoch 59/1000\n",
      "1/1 [==============================] - 0s 19ms/step - loss: 0.7184\n",
      "Epoch 60/1000\n",
      "1/1 [==============================] - 0s 21ms/step - loss: 0.5839\n",
      "Epoch 61/1000\n",
      "1/1 [==============================] - 0s 15ms/step - loss: 0.6830\n",
      "Epoch 62/1000\n",
      "1/1 [==============================] - 0s 17ms/step - loss: 0.5459\n",
      "Epoch 63/1000\n",
      "1/1 [==============================] - 0s 16ms/step - loss: 0.7951\n",
      "Epoch 64/1000\n",
      "1/1 [==============================] - 0s 13ms/step - loss: 0.4552\n",
      "Epoch 65/1000\n",
      "1/1 [==============================] - 0s 17ms/step - loss: 0.7466\n",
      "Epoch 66/1000\n",
      "1/1 [==============================] - 0s 12ms/step - loss: 0.6490\n",
      "Epoch 67/1000\n",
      "1/1 [==============================] - 0s 9ms/step - loss: 0.6096\n",
      "Epoch 68/1000\n",
      "1/1 [==============================] - 0s 17ms/step - loss: 0.6859\n",
      "Epoch 69/1000\n",
      "1/1 [==============================] - 0s 12ms/step - loss: 0.6231\n",
      "Epoch 70/1000\n",
      "1/1 [==============================] - 0s 12ms/step - loss: 0.6696\n",
      "Epoch 71/1000\n",
      "1/1 [==============================] - 0s 18ms/step - loss: 0.7086\n",
      "Epoch 72/1000\n",
      "1/1 [==============================] - 0s 14ms/step - loss: 0.6517\n",
      "Epoch 73/1000\n",
      "1/1 [==============================] - 0s 12ms/step - loss: 0.7922\n",
      "Epoch 74/1000\n",
      "1/1 [==============================] - 0s 18ms/step - loss: 0.6487\n",
      "Epoch 75/1000\n",
      "1/1 [==============================] - 0s 10ms/step - loss: 0.6926\n",
      "Epoch 76/1000\n",
      "1/1 [==============================] - 0s 15ms/step - loss: 0.6954\n",
      "Epoch 77/1000\n",
      "1/1 [==============================] - 0s 14ms/step - loss: 0.6777\n",
      "Epoch 78/1000\n",
      "1/1 [==============================] - 0s 9ms/step - loss: 0.6037\n",
      "Epoch 79/1000\n",
      "1/1 [==============================] - 0s 16ms/step - loss: 0.6681\n",
      "Epoch 80/1000\n",
      "1/1 [==============================] - 0s 15ms/step - loss: 0.6578\n",
      "Epoch 81/1000\n",
      "1/1 [==============================] - 0s 10ms/step - loss: 0.6906\n",
      "Epoch 82/1000\n",
      "1/1 [==============================] - 0s 15ms/step - loss: 0.7121\n",
      "Epoch 83/1000\n",
      "1/1 [==============================] - 0s 11ms/step - loss: 0.6462\n",
      "Epoch 84/1000\n",
      "1/1 [==============================] - 0s 8ms/step - loss: 0.5160\n",
      "Epoch 85/1000\n",
      "1/1 [==============================] - 0s 13ms/step - loss: 0.7623\n",
      "Epoch 86/1000\n",
      "1/1 [==============================] - 0s 17ms/step - loss: 0.7663\n",
      "Epoch 87/1000\n",
      "1/1 [==============================] - 0s 15ms/step - loss: 0.6375\n",
      "Epoch 88/1000\n",
      "1/1 [==============================] - 0s 17ms/step - loss: 0.6683\n",
      "Epoch 89/1000\n",
      "1/1 [==============================] - 0s 14ms/step - loss: 0.7236\n",
      "Epoch 90/1000\n",
      "1/1 [==============================] - 0s 23ms/step - loss: 0.6459\n",
      "Epoch 91/1000\n",
      "1/1 [==============================] - 0s 9ms/step - loss: 0.5657\n",
      "Epoch 92/1000\n",
      "1/1 [==============================] - 0s 20ms/step - loss: 0.7555\n",
      "Epoch 93/1000\n",
      "1/1 [==============================] - 0s 15ms/step - loss: 0.6726\n",
      "Epoch 94/1000\n",
      "1/1 [==============================] - 0s 8ms/step - loss: 0.5531\n",
      "Epoch 95/1000\n",
      "1/1 [==============================] - 0s 17ms/step - loss: 0.5721\n",
      "Epoch 96/1000\n",
      "1/1 [==============================] - 0s 12ms/step - loss: 0.6376\n",
      "Epoch 97/1000\n",
      "1/1 [==============================] - 0s 11ms/step - loss: 0.5836\n",
      "Epoch 98/1000\n",
      "1/1 [==============================] - 0s 10ms/step - loss: 0.7317\n",
      "Epoch 99/1000\n",
      "1/1 [==============================] - 0s 11ms/step - loss: 0.5252\n",
      "Epoch 100/1000\n",
      "1/1 [==============================] - 0s 8ms/step - loss: 0.6311\n",
      "Epoch 101/1000\n",
      "1/1 [==============================] - 0s 8ms/step - loss: 0.5700\n",
      "Epoch 102/1000\n"
     ]
    },
    {
     "name": "stdout",
     "output_type": "stream",
     "text": [
      "1/1 [==============================] - 0s 10ms/step - loss: 0.6120\n",
      "Epoch 103/1000\n",
      "1/1 [==============================] - 0s 13ms/step - loss: 0.6037\n",
      "Epoch 104/1000\n",
      "1/1 [==============================] - 0s 14ms/step - loss: 0.6160\n",
      "Epoch 105/1000\n",
      "1/1 [==============================] - 0s 8ms/step - loss: 0.7957\n",
      "Epoch 106/1000\n",
      "1/1 [==============================] - 0s 9ms/step - loss: 0.6556\n",
      "Epoch 107/1000\n",
      "1/1 [==============================] - 0s 12ms/step - loss: 0.7392\n",
      "Epoch 108/1000\n",
      "1/1 [==============================] - 0s 9ms/step - loss: 0.6285\n",
      "Epoch 109/1000\n",
      "1/1 [==============================] - 0s 9ms/step - loss: 0.5032\n",
      "Epoch 110/1000\n",
      "1/1 [==============================] - 0s 10ms/step - loss: 0.7085\n",
      "Epoch 111/1000\n",
      "1/1 [==============================] - 0s 8ms/step - loss: 0.5074\n",
      "Epoch 112/1000\n",
      "1/1 [==============================] - 0s 10ms/step - loss: 0.6544\n",
      "Epoch 113/1000\n",
      "1/1 [==============================] - 0s 12ms/step - loss: 0.5818\n",
      "Epoch 114/1000\n",
      "1/1 [==============================] - 0s 10ms/step - loss: 0.5690\n"
     ]
    }
   ],
   "source": [
    "ivis = Ivis(k = 5, batch_size = 120, embedding_dims=2)\n",
    "ivis.fit(X_scaled)\n",
    "xy = ivis.transform(X_scaled)"
   ]
  },
  {
   "cell_type": "code",
   "execution_count": 8,
   "metadata": {},
   "outputs": [
    {
     "data": {
      "text/plain": [
       "Text(0,0.5,'ivis2')"
      ]
     },
     "execution_count": 8,
     "metadata": {},
     "output_type": "execute_result"
    },
    {
     "data": {
      "image/png": "[encoded data removed]",
      "text/plain": [
       "<Figure size 432x288 with 1 Axes>"
      ]
     },
     "metadata": {},
     "output_type": "display_data"
    }
   ],
   "source": [
    "plt.scatter(x=xy[:, 0], y=xy[:, 1], c = Y)\n",
    "plt.xlabel('ivis1')\n",
    "plt.ylabel('ivis2')"
   ]
  },
  {
   "cell_type": "code",
   "execution_count": 10,
   "metadata": {},
   "outputs": [],
   "source": [
    "ivis.save_model('iris.ivis')"
   ]
  },
  {
   "cell_type": "code",
   "execution_count": 3,
   "metadata": {},
   "outputs": [
    {
     "data": {
      "text/plain": [
       "Ivis(annoy_index_path='annoy.index', batch_size=3, distance='pn',\n",
       "   embedding_dims=2, epochs=1000, k=5, margin=1, model=None,\n",
       "   n_epochs_without_progress=50, ntrees=50, precompute=True, search_k=-1)"
      ]
     },
     "execution_count": 3,
     "metadata": {},
     "output_type": "execute_result"
    }
   ],
   "source": [
    "i2 = Ivis()\n",
    "i2.load_model('iris.ivis')"
   ]
  },
  {
   "cell_type": "code",
   "execution_count": null,
   "metadata": {},
   "outputs": [],
   "source": [
    "i2.fit(X)"
   ]
  }
 ],
 "metadata": {
  "kernelspec": {
   "display_name": "Python 3",
   "language": "python",
   "name": "python3"
  },
  "language_info": {
   "codemirror_mode": {
    "name": "ipython",
    "version": 3
   },
   "file_extension": ".py",
   "mimetype": "text/x-python",
   "name": "python",
   "nbconvert_exporter": "python",
   "pygments_lexer": "ipython3",
   "version": "3.6.7"
  },
  "toc": {
   "base_numbering": 1,
   "nav_menu": {},
   "number_sections": false,
   "sideBar": false,
   "skip_h1_title": false,
   "title_cell": "Table of Contents",
   "title_sidebar": "Contents",
   "toc_cell": false,
   "toc_position": {},
   "toc_section_display": false,
   "toc_window_display": false
  }
 },
 "nbformat": 4,
 "nbformat_minor": 2
}
